{
 "cells": [
  {
   "cell_type": "markdown",
   "metadata": {
    "colab_type": "text",
    "id": "Do6-5IxXl7lE"
   },
   "source": [
    "# SFILES Directed Graph\n",
    "\n",
    "This notebook demonstrates the compilation of SFILES descriptors to a directed graph."
   ]
  },
  {
   "cell_type": "markdown",
   "metadata": {
    "colab_type": "text",
    "id": "jx1vt_ANagX_"
   },
   "source": [
    "## Parsing Rules\n",
    "\n",
    "The next cell develops a representation of the SFILES grammar using the `pyparsing` library. In this case, the `unit` match is not restricted to a specific list of unit operations. Instead, `unit` is any sequence of lower case alphabetic characters."
   ]
  },
  {
   "cell_type": "code",
   "execution_count": 26,
   "metadata": {
    "colab": {},
    "colab_type": "code",
    "id": "JGpySfEcSaxs",
    "scrolled": false
   },
   "outputs": [
    {
     "data": {
      "text/plain": [
       "[[[['i', ['A']]],\n",
       "  \">\",\n",
       "  [['r', ['A', 'B']], ['p', ['A', 'B', 'C', 'D']]],\n",
       "  '<',\n",
       "  '1',\n",
       "  '<',\n",
       "  '2'],\n",
       " ['<', [['i', ['B']]]],\n",
       " [[['m', ['A', 'B', 'C']], ['s', ['D']]]],\n",
       " ['<', [['o', ['D']]]],\n",
       " [[['dist', ['A']], ['s', ['B', 'C']]],\n",
       "  \">\",\n",
       "  '1',\n",
       "  \">\",\n",
       "  [['cyc', ['B']], ['s', ['C']]],\n",
       "  \">\",\n",
       "  '2',\n",
       "  \">\",\n",
       "  [['o', ['C']]]]]"
      ]
     },
     "execution_count": 26,
     "metadata": {},
     "output_type": "execute_result"
    }
   ],
   "source": [
    "from pyparsing import Literal, Word, Group, Suppress\n",
    "from pyparsing import Optional, OneOrMore, ZeroOrMore, oneOf, nestedExpr\n",
    "from pyparsing import alphas, nums\n",
    "\n",
    "LPAR  = Suppress(\"(\")\n",
    "RPAR  = Suppress(\")\")\n",
    "LBRA  = Suppress(\"[\")\n",
    "RBRA  = Suppress(\"]\")\n",
    "SLASH = Suppress(\"/\")\n",
    "GT = Literal(\">\")\n",
    "LT = Literal(\"<\")\n",
    "\n",
    "# components\n",
    "component = Word(alphas.upper(), exact=1)\n",
    "\n",
    "# mixtures\n",
    "mixture = Group(OneOrMore(component))\n",
    "\n",
    "# first unit and stream in a process group\n",
    "unit = Optional(Word(alphas.lower()), default='dist')\n",
    "stream = Group(unit + mixture)\n",
    "\n",
    "# subsequent units and streams in a process group\n",
    "unit_ = Optional(Word(alphas.lower()), default='s')\n",
    "stream_ = Group(unit_ + mixture)\n",
    "\n",
    "# process group\n",
    "processgroup = Group(LPAR + stream + ZeroOrMore(SLASH + stream_) + RPAR)\n",
    "           \n",
    "# a process group sequence is comprised of connectors, process group, and recycles                                             \n",
    "connector = Optional(GT | LT, default=GT)\n",
    "recycle = Word(nums, exact=1)\n",
    "sequence = Group(processgroup + ZeroOrMore(connector + (processgroup | recycle )))\n",
    "\n",
    "# nested branches\n",
    "branchsequence = OneOrMore(connector + (processgroup | recycle ))\n",
    "branch = nestedExpr(opener=LBRA, closer=RBRA, content=branchsequence)\n",
    "\n",
    "# sfiles expression start with sequence\n",
    "sfiles = sequence + ZeroOrMore(branch | sequence)\n",
    "\n",
    "# example\n",
    "results = sfiles.parseString('(iA)(rAB/pABCD)<1<2[<(iB)](mABC/D)[<(oD)](A/BC)1(cycB/C)2(oC)')\n",
    "results.asList()"
   ]
  },
  {
   "cell_type": "code",
   "execution_count": 112,
   "metadata": {
    "scrolled": false
   },
   "outputs": [
    {
     "name": "stdout",
     "output_type": "stream",
     "text": [
      "(iA) ['']\n",
      "(rAB/pABCD) ['(iA)']\n",
      "(iB) ['(rAB/pABCD)', '2']\n",
      "(mABC/sD) ['(rAB/pABCD)']\n",
      "(oD) ['(mABC/sD)', '(mABC/sD)']\n",
      "(distA/sBC) ['(mABC/sD)']\n",
      "(cycB/sC) ['(distA/sBC)']\n",
      "(oC) ['(cycB/sC)']\n",
      "Components: {'D', 'C', 'B', 'A'}\n",
      "Units: {'cyc', 'o', 'i', 'dist', 'r', 'm'}\n",
      "\n",
      "        (iA): {'(rAB/pABCD)'}\n",
      " (rAB/pABCD): {'(mABC/sD)'}\n",
      "        (iB): set()\n",
      "   (mABC/sD): {'(distA/sBC)'}\n",
      "        (oD): set()\n",
      " (distA/sBC): {'(cycB/sC)'}\n",
      "   (cycB/sC): {'(oC)'}\n",
      "        (oC): set()\n"
     ]
    }
   ],
   "source": [
    "graph = {}\n",
    "components = set()\n",
    "units = set()\n",
    "\n",
    "lastProcessgroup = ['']\n",
    "lastConnector = ''\n",
    "recycleA = {}\n",
    "recycleB = {}\n",
    "\n",
    "def componentAction(t):\n",
    "    components.add(t[0])\n",
    "    return t\n",
    "component.setParseAction(componentAction)\n",
    "\n",
    "def mixtureAction(t):\n",
    "    return ''.join(t[0])\n",
    "mixture.setParseAction(mixtureAction)\n",
    "\n",
    "def unitAction(t):\n",
    "    units.add(t[0])\n",
    "    return t\n",
    "unit.setParseAction(unitAction)\n",
    "\n",
    "def streamAction(t):\n",
    "    return ''.join(t[0])\n",
    "stream.setParseAction(streamAction)\n",
    "stream_.setParseAction(streamAction)\n",
    "\n",
    "def processgroupAction(t):\n",
    "    global lastConnector\n",
    "    pg = '(' + '/'.join(t[0]) + ')'\n",
    "    graph[pg] = set()\n",
    "    print(pg, lastProcessgroup)\n",
    "    if lastProcessgroup[-1] and ('>' in lastConnector):\n",
    "        graph[lastProcessgroup[-1]].add(pg)\n",
    "    elif lastProcessgroup[-1] and ('>' in lastConnector):\n",
    "        graph[pg].add(lastProcessgroup[-1])\n",
    "    lastProcessgroup[-1] = pg\n",
    "    return pg\n",
    "processgroup.setParseAction(processgroupAction)\n",
    "    \n",
    "def connectorAction(t):\n",
    "    global lastConnector\n",
    "    lastConnector = str(t[0])\n",
    "    return t\n",
    "connector.setParseAction(connectorAction)\n",
    "\n",
    "def recycleAction(t):\n",
    "    global lastProcessgroup, lastConnector\n",
    "    if '<' in lastConnector:\n",
    "        if t[0] in recycleA.keys():\n",
    "            src = recycleA[t[0]]\n",
    "            dst = lastProcessgroup[-1]\n",
    "            graph[src].add(dst)\n",
    "        else:\n",
    "            recycleB[t[0]] = lastProcessgroup[-1]\n",
    "    else:\n",
    "        if t[0] in recycleB.keys():\n",
    "            src = lastProcessgroup[-1]\n",
    "            dst = recycleB[t[0]]\n",
    "            graph[src].add(dst)\n",
    "        else:\n",
    "            recycleA[t[0]] = lastProcessgroup[-1]\n",
    "\n",
    "def sequenceAction(t):\n",
    "    global lastProcessgroup\n",
    "    lastProcessgroup.append(t[0][-1])\n",
    "    return t\n",
    "sequence.setParseAction(sequenceAction)\n",
    "branchsequence.setParseAction(sequenceAction)\n",
    "\n",
    "def branchAction(t):\n",
    "    global lastProcessgroup\n",
    "    lastProcessgroup.pop(-1)\n",
    "    lastProcessgroup.pop(-1)\n",
    "    return t\n",
    "branch.setParseAction(branchAction)\n",
    "\n",
    "results = sfiles.parseString('(iA)(rAB/pABCD)<1<2[<(iB)](mABC/D)[<(oD)](A/BC)1(cycB/C)2(oC)')\n",
    "\n",
    "print('Components:', components)\n",
    "print('Units:', units)\n",
    "print()\n",
    "for u, s in graph.items():\n",
    "    fmt = '{0:>12s}:'\n",
    "    print(fmt.format(u), s)"
   ]
  },
  {
   "cell_type": "code",
   "execution_count": null,
   "metadata": {},
   "outputs": [],
   "source": []
  },
  {
   "cell_type": "code",
   "execution_count": null,
   "metadata": {},
   "outputs": [],
   "source": []
  }
 ],
 "metadata": {
  "colab": {
   "collapsed_sections": [],
   "name": "SFILES_parser.ipynb",
   "provenance": [],
   "toc_visible": true,
   "version": "0.3.2"
  },
  "kernelspec": {
   "display_name": "Python 3",
   "language": "python",
   "name": "python3"
  },
  "language_info": {
   "codemirror_mode": {
    "name": "ipython",
    "version": 3
   },
   "file_extension": ".py",
   "mimetype": "text/x-python",
   "name": "python",
   "nbconvert_exporter": "python",
   "pygments_lexer": "ipython3",
   "version": "3.6.8"
  }
 },
 "nbformat": 4,
 "nbformat_minor": 2
}
