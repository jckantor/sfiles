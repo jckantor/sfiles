{
 "cells": [
  {
   "cell_type": "markdown",
   "metadata": {},
   "source": [
    "# Flowsheet Validator\n",
    "\n",
    "The overall configuration of a flowsheet can be specified without providing detail within the individual process groups. This is demonstrated in Chapter 4 of the d'Anterroches (2006) thesis where upper case alphabetic characters substitute for process groups. The resulting strings do not form valid SFILES sequences, but are nevertheless useful means of describing flowsheets at a higher level of abstraction.\n",
    "\n",
    "The following examples are from d'Anterroches (2006):\n",
    "\n",
    "     AC[<B]DE                                  <== Figure 4.7\n",
    "     ABC[<J<I<H]D[<L[<K]<M]EFG                 <== Figure 4.8 (w/correction)\n",
    "     HIJC[<B<A]D[<L[<K]<M]EFG                  <== Figure 4.8 (alternative)\n",
    "     AB<1CD1E                                  <== Figure 4.9\n",
    "     OA<1E[P]F[Q]G<2MN[R]J<3K[IH3]L[S]D2CB1    <== Figure 4.10\n",
    "\n",
    "The following cell demonstrates the parsing and validation of these sequences using the `pyparsing` library."
   ]
  },
  {
   "cell_type": "code",
   "execution_count": 33,
   "metadata": {},
   "outputs": [
    {
     "data": {
      "text/plain": [
       "{W:(ABCD...) [{[{\"<\" | \">\"}] {{Group:(W:(0123...)) | nested [] expression} | W:(ABCD...)}}]...}"
      ]
     },
     "execution_count": 33,
     "metadata": {},
     "output_type": "execute_result"
    }
   ],
   "source": [
    "from pyparsing import Literal, Word, Group\n",
    "from pyparsing import Optional, OneOrMore, ZeroOrMore\n",
    "from pyparsing import alphas, nums\n",
    "from pyparsing import nestedExpr, Forward\n",
    "\n",
    "prevNode = [None]\n",
    "prevConn = [None]\n",
    "\n",
    "class ParseNode():\n",
    "    def __init__(self, tokens):\n",
    "        global prevNode\n",
    "        self.tokens = tokens\n",
    "        self.assignFields()\n",
    "    def __str__(self):\n",
    "        return self.__class__.__name__ + ': ' + str(self.name)\n",
    "    __repr__ = __str__  \n",
    "    \n",
    "class Processgroup(ParseNode):\n",
    "    def assignFields(self):\n",
    "        self.name = self.tokens[0]\n",
    "        self.prevConn = prevConn[-1]\n",
    "        \n",
    "class Connector(ParseNode):\n",
    "    def assignFields(self):\n",
    "        self.name = str(self.tokens[0])\n",
    "        prevConn.append(self)  # tentatively add to prev connector list\n",
    "\n",
    "class Recycle(ParseNode):\n",
    "    def assignFields(self):\n",
    "        self.name = self.tokens[0][0]\n",
    "\n",
    "class Branch(ParseNode):\n",
    "    def assignFields(self):\n",
    "        self.name = self.tokens\n",
    "        \n",
    "class SFILES(ParseNode):\n",
    "    def assignFields(self):\n",
    "        self.name = self.tokens\n",
    "\n",
    "# parsar grammar\n",
    "processgroup = Word(alphas.upper(), exact=1)  \n",
    "processgroup.setParseAction(Processgroup)\n",
    "\n",
    "# connector\n",
    "connector = Optional(Literal('<') | Literal('>') , Literal('>'))\n",
    "connector.setParseAction(Connector)\n",
    "\n",
    "# recycle\n",
    "recycle = Group(Word(nums, exact=1))\n",
    "recycle.setParseAction(Recycle)\n",
    "\n",
    "# branch\n",
    "branch = Forward()\n",
    "branchsequence = connector + processgroup + ZeroOrMore(connector + (recycle | branch | processgroup))\n",
    "branch = nestedExpr(opener=\"[\", closer=\"]\", content=branchsequence)\n",
    "branch.setParseAction(Branch)\n",
    "\n",
    "# sfiles\n",
    "sfiles = processgroup + ZeroOrMore(connector + (recycle | branch | processgroup))\n",
    "sfiles.setParseAction(SFILES)\n"
   ]
  },
  {
   "cell_type": "code",
   "execution_count": 34,
   "metadata": {},
   "outputs": [],
   "source": [
    "result = sfiles.parseString('ABCD')"
   ]
  },
  {
   "cell_type": "markdown",
   "metadata": {},
   "source": [
    "At this stage, `sfiles` is an object from the [`ParserElement`](https://pythonhosted.org/pyparsing/pyparsing.ParserElement-class.html) class from the `pyparsing` library."
   ]
  },
  {
   "cell_type": "code",
   "execution_count": 35,
   "metadata": {
    "scrolled": false
   },
   "outputs": [
    {
     "name": "stdout",
     "output_type": "stream",
     "text": [
      "\n",
      "ABC\n",
      "[SFILES: [Processgroup: A, Connector: \">\", Processgroup: B, Connector: \">\", Processgroup: C]]\n",
      "\n",
      "\n",
      "A<BC\n",
      "[SFILES: [Processgroup: A, Connector: <, Processgroup: B, Connector: \">\", Processgroup: C]]\n",
      "\n",
      "\n",
      "A<1BC1D\n",
      "[SFILES: [Processgroup: A, Connector: <, Recycle: 1, Connector: \">\", Processgroup: B, Connector: \">\", Processgroup: C, Connector: \">\", Recycle: 1, Connector: \">\", Processgroup: D]]\n",
      "\n",
      "\n",
      "AC[<B]DE\n",
      "[SFILES: [Processgroup: A, Connector: \">\", Processgroup: C, Connector: \">\", Branch: [[Connector: <, Processgroup: B]], Connector: \">\", Processgroup: D, Connector: \">\", Processgroup: E]]\n",
      "\n",
      "\n",
      "ABC[<J<I<H]D[<L[<K]<M]EFG\n",
      "[SFILES: [Processgroup: A, Connector: \">\", Processgroup: B, Connector: \">\", Processgroup: C, Connector: \">\", Branch: [[Connector: <, Processgroup: J, Connector: <, Processgroup: I, Connector: <, Processgroup: H]], Connector: \">\", Processgroup: D, Connector: \">\", Branch: [[Connector: <, Processgroup: L, Branch: [[Connector: <, Processgroup: K]], Connector: <, Processgroup: M]], Connector: \">\", Processgroup: E, Connector: \">\", Processgroup: F, Connector: \">\", Processgroup: G]]\n",
      "\n",
      "\n",
      "HIJC[<B<A]D[<L[<K]<M]EFG\n",
      "[SFILES: [Processgroup: H, Connector: \">\", Processgroup: I, Connector: \">\", Processgroup: J, Connector: \">\", Processgroup: C, Connector: \">\", Branch: [[Connector: <, Processgroup: B, Connector: <, Processgroup: A]], Connector: \">\", Processgroup: D, Connector: \">\", Branch: [[Connector: <, Processgroup: L, Branch: [[Connector: <, Processgroup: K]], Connector: <, Processgroup: M]], Connector: \">\", Processgroup: E, Connector: \">\", Processgroup: F, Connector: \">\", Processgroup: G]]\n",
      "\n",
      "\n",
      "AB<1CD1E\n",
      "[SFILES: [Processgroup: A, Connector: \">\", Processgroup: B, Connector: <, Recycle: 1, Connector: \">\", Processgroup: C, Connector: \">\", Processgroup: D, Connector: \">\", Recycle: 1, Connector: \">\", Processgroup: E]]\n",
      "\n",
      "\n",
      "OA<1E[P]F[Q]G<2MN[R]J<3K[IH3]L[S]D2CB1\n",
      "[SFILES: [Processgroup: O, Connector: \">\", Processgroup: A, Connector: <, Recycle: 1, Connector: \">\", Processgroup: E, Connector: \">\", Branch: [[Connector: \">\", Processgroup: P]], Connector: \">\", Processgroup: F, Connector: \">\", Branch: [[Connector: \">\", Processgroup: Q]], Connector: \">\", Processgroup: G, Connector: <, Recycle: 2, Connector: \">\", Processgroup: M, Connector: \">\", Processgroup: N, Connector: \">\", Branch: [[Connector: \">\", Processgroup: R]], Connector: \">\", Processgroup: J, Connector: <, Recycle: 3, Connector: \">\", Processgroup: K, Connector: \">\", Branch: [[Connector: \">\", Processgroup: I, Connector: \">\", Processgroup: H, Connector: \">\", Recycle: 3]], Connector: \">\", Processgroup: L, Connector: \">\", Branch: [[Connector: \">\", Processgroup: S]], Connector: \">\", Processgroup: D, Connector: \">\", Recycle: 2, Connector: \">\", Processgroup: C, Connector: \">\", Processgroup: B, Connector: \">\", Recycle: 1]]\n",
      "\n"
     ]
    }
   ],
   "source": [
    "tests = \"\"\"\\\n",
    "    ABC\n",
    "    A<BC\n",
    "    A<1BC1D\n",
    "    AC[<B]DE\n",
    "    ABC[<J<I<H]D[<L[<K]<M]EFG\n",
    "    HIJC[<B<A]D[<L[<K]<M]EFG\n",
    "    AB<1CD1E\n",
    "    OA<1E[P]F[Q]G<2MN[R]J<3K[IH3]L[S]D2CB1\"\"\"\n",
    "\n",
    "result = sfiles.runTests(tests);"
   ]
  },
  {
   "cell_type": "code",
   "execution_count": null,
   "metadata": {},
   "outputs": [],
   "source": []
  },
  {
   "cell_type": "code",
   "execution_count": null,
   "metadata": {},
   "outputs": [],
   "source": []
  }
 ],
 "metadata": {
  "kernelspec": {
   "display_name": "Python 3",
   "language": "python",
   "name": "python3"
  },
  "language_info": {
   "codemirror_mode": {
    "name": "ipython",
    "version": 3
   },
   "file_extension": ".py",
   "mimetype": "text/x-python",
   "name": "python",
   "nbconvert_exporter": "python",
   "pygments_lexer": "ipython3",
   "version": "3.6.8"
  }
 },
 "nbformat": 4,
 "nbformat_minor": 2
}
