{
 "cells": [
  {
   "cell_type": "markdown",
   "metadata": {
    "colab_type": "text",
    "id": "Do6-5IxXl7lE"
   },
   "source": [
    "# SFILES Parser\n",
    "\n",
    "The purpose of this notebook is to explore methods for parsing and processing SFILES text."
   ]
  },
  {
   "cell_type": "markdown",
   "metadata": {
    "colab_type": "text",
    "id": "PCzs5AGl-hrx"
   },
   "source": [
    "## SFILES Notation\n",
    "\n",
    "SFILES strings are read left to right. Process groups are delimited with an left parenthesis \"(\" and a terminal right parenthesis \")\", and are not nested. The contents of a process group consists of series of strings corresponding to process streams separated by a forward slash \"/\". Process streams consist of an optional type designated by a sequence of lower case alphabetic characters, followed by a sequence of one or more upper case alphabetic characters denoting chemical species."
   ]
  },
  {
   "cell_type": "markdown",
   "metadata": {
    "colab_type": "text",
    "id": "fyvt65nnaJ0Z"
   },
   "source": [
    "## SFILES Validator"
   ]
  },
  {
   "cell_type": "markdown",
   "metadata": {
    "colab_type": "text",
    "id": "61Ns8ipTaeBq"
   },
   "source": [
    "### Process Types"
   ]
  },
  {
   "cell_type": "code",
   "execution_count": 2,
   "metadata": {
    "colab": {},
    "colab_type": "code",
    "id": "NmI6pJo9DSgA"
   },
   "outputs": [],
   "source": [
    "types = {\n",
    "    'i'    : {'name': 'input'},\n",
    "    'o'    : {'name': 'output'},\n",
    "    'f'    : {'name': 'flash'},\n",
    "    'e'    : {'name': ''},\n",
    "    'm'    : {'name': ''},\n",
    "    'n'    : {'name': ''},\n",
    "    'p'    : {'name': 'reactor product'},\n",
    "    'cyc'  : {'name': 'solvent based azeotropic distillation'}, \n",
    "    'r'    : {'name': 'reactor'},\n",
    "    'sw'   : {'name': 'pressure swing distillation'},\n",
    "    'pms'  : {'name': 'polar molecule sieve based separation'},\n",
    "    'ms'   : {'name': 'molecular sieve based separation'},\n",
    "    'lmem' : {'name': 'liquid membrane based separation'},\n",
    "    'gmem' : {'name': 'gas membrane based separation'},\n",
    "    'crs'  : {'name': 'crystallization'},\n",
    "    'ab'   : {'name': 'absorption'}\n",
    "}"
   ]
  },
  {
   "cell_type": "markdown",
   "metadata": {
    "colab_type": "text",
    "id": "jx1vt_ANagX_"
   },
   "source": [
    "### Parsing Rules"
   ]
  },
  {
   "cell_type": "code",
   "execution_count": 106,
   "metadata": {
    "colab": {},
    "colab_type": "code",
    "id": "JGpySfEcSaxs"
   },
   "outputs": [],
   "source": [
    "from pyparsing import Literal, Word, Group, Suppress\n",
    "from pyparsing import Optional, OneOrMore, ZeroOrMore, oneOf, nestedExpr\n",
    "from pyparsing import alphas, nums\n",
    "\n",
    "LPAR  = Suppress(\"(\")\n",
    "RPAR  = Suppress(\")\")\n",
    "LBRA  = Literal(\"[\")\n",
    "RBRA  = Literal(\"]\")\n",
    "SLASH = Suppress(\"/\")\n",
    "GT = Literal(\">\")\n",
    "LT = Literal(\"<\")\n",
    "\n",
    "# components and mixtures\n",
    "component = Word(alphas.upper(), exact=1)\n",
    "mixture = Group(OneOrMore(component))\n",
    "\n",
    "# first unit and stream in a process group\n",
    "type = Optional(oneOf(' '.join(types.keys())), default='dist')\n",
    "stream = Group(type + mixture)\n",
    "\n",
    "# subsequent units and streams in a process group\n",
    "type_ = Optional(oneOf(' '.join(types.keys())), default='s')\n",
    "stream_ = Group(type_ + mixture)\n",
    "\n",
    "# process group\n",
    "processgroup = Group(LPAR + stream + ZeroOrMore(SLASH + stream_) + RPAR)\n",
    "           \n",
    "# process sequence is comprised of connectors, process group, and recycles                                             \n",
    "connector = Optional(GT | LT, default=GT)\n",
    "recycle = Word(nums, exact=1)\n",
    "sequence = Group(processgroup + ZeroOrMore(connector + (processgroup | recycle )))\n",
    "\n",
    "# nested branches\n",
    "branchsequence = OneOrMore(connector + (processgroup | recycle ))\n",
    "branch = nestedExpr(opener=LBRA, closer=RBRA, content=branchsequence)\n",
    "\n",
    "# sfiles expression start with sequence\n",
    "sfiles = sequence + ZeroOrMore(branch | sequence)"
   ]
  },
  {
   "cell_type": "code",
   "execution_count": 109,
   "metadata": {
    "colab": {
     "base_uri": "https://localhost:8080/",
     "height": 34
    },
    "colab_type": "code",
    "executionInfo": {
     "elapsed": 578,
     "status": "ok",
     "timestamp": 1552415495749,
     "user": {
      "displayName": "Jeffrey Kantor",
      "photoUrl": "https://lh5.googleusercontent.com/-8zK5aAW5RMQ/AAAAAAAAAAI/AAAAAAAAKB0/kssUQyz8DTQ/s64/photo.jpg",
      "userId": "09038942003589296665"
     },
     "user_tz": 240
    },
    "id": "nOUOUd1XIySd",
    "outputId": "d0589efe-980e-4c70-c121-1e6cff1f80d9"
   },
   "outputs": [
    {
     "data": {
      "text/plain": [
       "[[[['i', ['A', 'B', 'C']]],\n",
       "  \">\",\n",
       "  [['dist', ['A']], ['s', ['B', 'C']]],\n",
       "  \">\",\n",
       "  '2',\n",
       "  \">\",\n",
       "  [['o', ['A']]],\n",
       "  \">\",\n",
       "  [['dist', ['B']], ['s', ['C']]],\n",
       "  \">\",\n",
       "  [['o', ['B']]],\n",
       "  \">\",\n",
       "  [['o', ['C']]]]]"
      ]
     },
     "execution_count": 109,
     "metadata": {},
     "output_type": "execute_result"
    }
   ],
   "source": [
    "results = sfiles.parseString('(iABC)(A/BC)2(oA)(B/C)(oB)(oC)')\n",
    "results.asList()"
   ]
  },
  {
   "cell_type": "code",
   "execution_count": 110,
   "metadata": {},
   "outputs": [
    {
     "data": {
      "text/plain": [
       "[[[['i', ['A']]],\n",
       "  \">\",\n",
       "  [['r', ['A', 'B']], ['p', ['A', 'B', 'C', 'D']]],\n",
       "  '<',\n",
       "  '1',\n",
       "  '<',\n",
       "  '2'],\n",
       " ['<', [['i', ['B']]]],\n",
       " [[['m', ['A', 'B', 'C']], ['s', ['D']]]],\n",
       " ['<', [['o', ['D']]]],\n",
       " [[['dist', ['A']], ['s', ['B', 'C']]],\n",
       "  \">\",\n",
       "  '1',\n",
       "  \">\",\n",
       "  [['cyc', ['B']], ['s', ['C']]],\n",
       "  \">\",\n",
       "  '2',\n",
       "  \">\",\n",
       "  [['o', ['C']]]]]"
      ]
     },
     "execution_count": 110,
     "metadata": {},
     "output_type": "execute_result"
    }
   ],
   "source": [
    "results = sfiles.parseString('(iA)(rAB/pABCD)<1<2[<(iB)](mABC/D)[<(oD)](A/BC)1(cycB/C)2(oC)')\n",
    "results.asList()"
   ]
  },
  {
   "cell_type": "markdown",
   "metadata": {
    "colab_type": "text",
    "id": "q47-1vljaTt5"
   },
   "source": [
    "## Tests"
   ]
  },
  {
   "cell_type": "code",
   "execution_count": 111,
   "metadata": {},
   "outputs": [
    {
     "name": "stdout",
     "output_type": "stream",
     "text": [
      "\n",
      " (A/BC) \n",
      " [[[['dist', ['A']], ['s', ['B', 'C']]]]]\n",
      "\n",
      " (ABC/DE) \n",
      " [[[['dist', ['A', 'B', 'C']], ['s', ['D', 'E']]]]]\n",
      "\n",
      " (cycA/B) \n",
      " [[[['cyc', ['A']], ['s', ['B']]]]]\n",
      "\n",
      " (fABC/BCD) \n",
      " [[[['f', ['A', 'B', 'C']], ['s', ['B', 'C', 'D']]]]]\n",
      "\n",
      " (rABC/nE/pABCD) \n",
      " [[[['r', ['A', 'B', 'C']], ['n', ['E']], ['p', ['A', 'B', 'C', 'D']]]]]\n",
      "\n",
      " (rABC/nE/pABCD) \n",
      " [[[['r', ['A', 'B', 'C']], ['n', ['E']], ['p', ['A', 'B', 'C', 'D']]]]]\n",
      "\n",
      " (swA/B) \n",
      " [[[['sw', ['A']], ['s', ['B']]]]]\n",
      "\n",
      " (pmsABC/D) \n",
      " [[[['pms', ['A', 'B', 'C']], ['s', ['D']]]]]\n",
      "\n",
      " (msABC/D) \n",
      " [[[['ms', ['A', 'B', 'C']], ['s', ['D']]]]]\n",
      "\n",
      " (lmemABC/D) \n",
      " [[[['lmem', ['A', 'B', 'C']], ['s', ['D']]]]]\n",
      "\n",
      " (gmemABC/D) \n",
      " [[[['gmem', ['A', 'B', 'C']], ['s', ['D']]]]]\n",
      "\n",
      " (crsABC/D) \n",
      " [[[['crs', ['A', 'B', 'C']], ['s', ['D']]]]]\n",
      "\n",
      " (abEAB/eF/EABF/EF) \n",
      " [[[['ab', ['E', 'A', 'B']], ['e', ['F']], ['s', ['E', 'A', 'B', 'F']], ['s', ['E', 'F']]]]]\n",
      "\n",
      " (iABCD) \n",
      " [[[['i', ['A', 'B', 'C', 'D']]]]]\n",
      "\n",
      " (oABD) \n",
      " [[[['o', ['A', 'B', 'D']]]]]\n",
      "\n",
      " (ABC/D) \n",
      " [[[['dist', ['A', 'B', 'C']], ['s', ['D']]]]]\n",
      "\n",
      " (rAB/pABD) \n",
      " [[[['r', ['A', 'B']], ['p', ['A', 'B', 'D']]]]]\n",
      "\n",
      " (iA)(rAB/pABCD) \n",
      " [[[['i', ['A']]], \">\", [['r', ['A', 'B']], ['p', ['A', 'B', 'C', 'D']]]]]\n",
      "\n",
      " (iA)(oB)(iC) \n",
      " [[[['i', ['A']]], \">\", [['o', ['B']]], \">\", [['i', ['C']]]]]\n",
      "\n",
      " (iA)<(oB)>2 \n",
      " [[[['i', ['A']]], '<', [['o', ['B']]], '>', '2']]\n",
      "\n",
      " (A/BC)2(oD) \n",
      " [[[['dist', ['A']], ['s', ['B', 'C']]], \">\", '2', \">\", [['o', ['D']]]]]\n",
      "\n",
      " (A/BC)1 \n",
      " [[[['dist', ['A']], ['s', ['B', 'C']]], \">\", '1']]\n",
      "\n",
      " (iA)[(oA)] \n",
      " [[[['i', ['A']]]], [\">\", [['o', ['A']]]]]\n",
      "\n",
      " (iA)[<(oD)] \n",
      " [[[['i', ['A']]]], ['<', [['o', ['D']]]]]\n",
      "\n",
      " (iA)[<(A/BD)] \n",
      " [[[['i', ['A']]]], ['<', [['dist', ['A']], ['s', ['B', 'D']]]]]\n",
      "\n",
      " (iA)[(A/BD)(BD/B)[(oA)]] \n",
      " [[[['i', ['A']]]], [\">\", [['dist', ['A']], ['s', ['B', 'D']]], \">\", [['dist', ['B', 'D']], ['s', ['B']]], [\">\", [['o', ['A']]]]]]\n",
      "\n",
      " (iA)(rAB/pABCD)<1<2[<(iB)](mABC/D)[<(oD)](A/BC)1(cycB/C)2(oC) \n",
      " [[[['i', ['A']]], \">\", [['r', ['A', 'B']], ['p', ['A', 'B', 'C', 'D']]], '<', '1', '<', '2'], ['<', [['i', ['B']]]], [[['m', ['A', 'B', 'C']], ['s', ['D']]]], ['<', [['o', ['D']]]], [[['dist', ['A']], ['s', ['B', 'C']]], \">\", '1', \">\", [['cyc', ['B']], ['s', ['C']]], \">\", '2', \">\", [['o', ['C']]]]]\n",
      "\n",
      " (iB)(rAB/pABCD)<1<2[<(iA)](mABC/D)[<(oD)](A/BC)1(cycB/C)2(oC) \n",
      " [[[['i', ['B']]], \">\", [['r', ['A', 'B']], ['p', ['A', 'B', 'C', 'D']]], '<', '1', '<', '2'], ['<', [['i', ['A']]]], [[['m', ['A', 'B', 'C']], ['s', ['D']]]], ['<', [['o', ['D']]]], [[['dist', ['A']], ['s', ['B', 'C']]], \">\", '1', \">\", [['cyc', ['B']], ['s', ['C']]], \">\", '2', \">\", [['o', ['C']]]]]\n",
      "\n",
      " (iA)(rAB/pABCD)[(iB)] \n",
      " [[[['i', ['A']]], \">\", [['r', ['A', 'B']], ['p', ['A', 'B', 'C', 'D']]]], [\">\", [['i', ['B']]]]]\n",
      "\n",
      " (iA)(rAB/pABCD)[<(iB)] \n",
      " [[[['i', ['A']]], \">\", [['r', ['A', 'B']], ['p', ['A', 'B', 'C', 'D']]]], ['<', [['i', ['B']]]]]\n",
      "\n",
      " (iA)(rAB/pABCD)<1<2[<(iB)](mABC/D)[<(oD)](A/BC)1(cycB/C)2(oC) \n",
      " [[[['i', ['A']]], \">\", [['r', ['A', 'B']], ['p', ['A', 'B', 'C', 'D']]], '<', '1', '<', '2'], ['<', [['i', ['B']]]], [[['m', ['A', 'B', 'C']], ['s', ['D']]]], ['<', [['o', ['D']]]], [[['dist', ['A']], ['s', ['B', 'C']]], \">\", '1', \">\", [['cyc', ['B']], ['s', ['C']]], \">\", '2', \">\", [['o', ['C']]]]]\n",
      "\n",
      " (iB)(rAB/pABCD)<1<2[<(iA)](mABC/D)[<(oD)](A/BC)1(cycB/C)2(oC) \n",
      " [[[['i', ['B']]], \">\", [['r', ['A', 'B']], ['p', ['A', 'B', 'C', 'D']]], '<', '1', '<', '2'], ['<', [['i', ['A']]]], [[['m', ['A', 'B', 'C']], ['s', ['D']]]], ['<', [['o', ['D']]]], [[['dist', ['A']], ['s', ['B', 'C']]], \">\", '1', \">\", [['cyc', ['B']], ['s', ['C']]], \">\", '2', \">\", [['o', ['C']]]]]\n",
      "\n",
      " (iA)(rAB/pABCD)[<(iB)](mABC/D)[(oD)](A/BC)[(oA)](oBC) \n",
      " [[[['i', ['A']]], \">\", [['r', ['A', 'B']], ['p', ['A', 'B', 'C', 'D']]]], ['<', [['i', ['B']]]], [[['m', ['A', 'B', 'C']], ['s', ['D']]]], [\">\", [['o', ['D']]]], [[['dist', ['A']], ['s', ['B', 'C']]]], [\">\", [['o', ['A']]]], [[['o', ['B', 'C']]]]]\n",
      "\n",
      " (iA)[(oB)(oC)[(oD)]] \n",
      " [[[['i', ['A']]]], [\">\", [['o', ['B']]], \">\", [['o', ['C']]], [\">\", [['o', ['D']]]]]]\n",
      "\n",
      " (iABCDE)(AB/CDE)[(A/B)[(oA)](oB)] \n",
      " [[[['i', ['A', 'B', 'C', 'D', 'E']]], \">\", [['dist', ['A', 'B']], ['s', ['C', 'D', 'E']]]], [\">\", [['dist', ['A']], ['s', ['B']]], [\">\", [['o', ['A']]]], \">\", [['o', ['B']]]]]\n"
     ]
    }
   ],
   "source": [
    "processgroup_tests = \"\"\"\\\n",
    "    (A/BC)\n",
    "    (ABC/DE)\n",
    "    (cycA/B)\n",
    "    (fABC/BCD)\n",
    "    (rABC/nE/pABCD)\n",
    "    (rABC/nE/pABCD)\n",
    "    (swA/B)\n",
    "    (pmsABC/D)\n",
    "    (msABC/D)\n",
    "    (lmemABC/D)\n",
    "    (gmemABC/D)\n",
    "    (crsABC/D)\n",
    "    (abEAB/eF/EABF/EF)\n",
    "    (iABCD)\n",
    "    (oABD)\n",
    "    (ABC/D)\n",
    "    (rAB/pABD)\n",
    "\"\"\"\n",
    "    \n",
    "sequence_tests = \"\"\"\\\n",
    "    (iA)(rAB/pABCD)\n",
    "    (iA)(oB)(iC)\n",
    "    (iA)<(oB)>2\n",
    "    (A/BC)2(oD)\n",
    "    (A/BC)1\n",
    "\"\"\"\n",
    "\n",
    "branch_tests = \"\"\"\\\n",
    "    (iA)[(oA)]\n",
    "    (iA)[<(oD)]\n",
    "    (iA)[<(A/BD)]\n",
    "    (iA)[(A/BD)(BD/B)[(oA)]]\n",
    "\"\"\"\n",
    "\n",
    "sfiles_tests = \"\"\"\\\n",
    "    (iA)(rAB/pABCD)<1<2[<(iB)](mABC/D)[<(oD)](A/BC)1(cycB/C)2(oC)\n",
    "    (iB)(rAB/pABCD)<1<2[<(iA)](mABC/D)[<(oD)](A/BC)1(cycB/C)2(oC)\n",
    "    (iA)(rAB/pABCD)[(iB)]    \n",
    "    (iA)(rAB/pABCD)[<(iB)]\n",
    "    (iA)(rAB/pABCD)<1<2[<(iB)](mABC/D)[<(oD)](A/BC)1(cycB/C)2(oC)\n",
    "    (iB)(rAB/pABCD)<1<2[<(iA)](mABC/D)[<(oD)](A/BC)1(cycB/C)2(oC)\n",
    "    (iA)(rAB/pABCD)[<(iB)](mABC/D)[(oD)](A/BC)[(oA)](oBC)\n",
    "    (iA)[(oB)(oC)[(oD)]]\n",
    "    (iABCDE)(AB/CDE)[(A/B)[(oA)](oB)]\n",
    "\"\"\"\n",
    "\n",
    "def sfiles_test(tests):\n",
    "    for test in tests.split():\n",
    "        try:\n",
    "            result = sfiles.parseString(test)\n",
    "            print('\\n', test, '\\n', result.asList())\n",
    "        except:\n",
    "            print('\\n', test, 'Failed')\n",
    "\n",
    "sfiles_test(processgroup_tests)\n",
    "sfiles_test(sequence_tests)\n",
    "sfiles_test(branch_tests)\n",
    "sfiles_test(sfiles_tests)"
   ]
  },
  {
   "cell_type": "markdown",
   "metadata": {
    "colab_type": "text",
    "id": "Ng81dzaxfriY"
   },
   "source": [
    "## Flowsheets\n",
    "\n",
    "A simplified version of SFILES is sometimes useful for describing the layout of flowsheets with the detail of describing process groups. \n"
   ]
  },
  {
   "cell_type": "code",
   "execution_count": null,
   "metadata": {
    "colab": {},
    "colab_type": "code",
    "id": "vkGk8g9kWbx5"
   },
   "outputs": [],
   "source": [
    "from pyparsing import Literal, Word, Group\n",
    "from pyparsing import Optional, OneOrMore, ZeroOrMore, oneOf\n",
    "from pyparsing import alphas, nums\n",
    "from pyparsing import nestedExpr\n",
    "\n",
    "# process group\n",
    "processgroup = Word(alphas.upper(), exact=1)\n",
    "           \n",
    "# process sequence is comprised of connectors, process group, and recycles                                             \n",
    "connector = Optional(Literal('>') | Literal('<'), default=Literal('>'))\n",
    "recycle = Word(nums, exact=1)\n",
    "sequence = OneOrMore(connector + (processgroup | recycle ))\n",
    "\n",
    "# nested branches\n",
    "branch = nestedExpr(opener=\"[\", closer=\"]\", content=sequence)\n",
    "branch.setName('branch')\n",
    "\n",
    "# sfiles expression\n",
    "sfiles = sequence + ZeroOrMore(branch | sequence)"
   ]
  },
  {
   "cell_type": "code",
   "execution_count": 37,
   "metadata": {
    "colab": {
     "base_uri": "https://localhost:8080/",
     "height": 54
    },
    "colab_type": "code",
    "executionInfo": {
     "elapsed": 709,
     "status": "ok",
     "timestamp": 1552413973691,
     "user": {
      "displayName": "Jeffrey Kantor",
      "photoUrl": "https://lh5.googleusercontent.com/-8zK5aAW5RMQ/AAAAAAAAAAI/AAAAAAAAKB0/kssUQyz8DTQ/s64/photo.jpg",
      "userId": "09038942003589296665"
     },
     "user_tz": 240
    },
    "id": "HjG5o_v2gDNn",
    "outputId": "c369b081-8356-467d-cb7a-58d7d6d25929"
   },
   "outputs": [
    {
     "data": {
      "text/plain": [
       "([\">\", 'O', \">\", 'A', '<', '1', \">\", 'E', ([\">\", 'P'], {}), \">\", 'F', ([\">\", 'Q'], {}), \">\", 'G', '<', '2', \">\", 'M', \">\", 'N', ([\">\", 'R'], {}), \">\", 'J', '<', '3', \">\", 'K', ([\">\", 'I', \">\", 'H', \">\", '3'], {}), \">\", 'L', ([\">\", 'S'], {}), \">\", 'D', \">\", '2', \">\", 'C', \">\", 'B', \">\", '1'], {})"
      ]
     },
     "execution_count": 37,
     "metadata": {
      "tags": []
     },
     "output_type": "execute_result"
    }
   ],
   "source": [
    "result = sfiles.parseString('OA<1E[P]F[Q]G<2MN[R]J<3K[IH3]L[S]D2CB1')\n",
    "result"
   ]
  },
  {
   "cell_type": "code",
   "execution_count": null,
   "metadata": {
    "colab": {},
    "colab_type": "code",
    "id": "3cLEoDv6-04o"
   },
   "outputs": [],
   "source": [
    "fo"
   ]
  }
 ],
 "metadata": {
  "colab": {
   "collapsed_sections": [],
   "name": "SFILES_parser.ipynb",
   "provenance": [],
   "toc_visible": true,
   "version": "0.3.2"
  },
  "kernelspec": {
   "display_name": "Python 3",
   "language": "python",
   "name": "python3"
  },
  "language_info": {
   "codemirror_mode": {
    "name": "ipython",
    "version": 3
   },
   "file_extension": ".py",
   "mimetype": "text/x-python",
   "name": "python",
   "nbconvert_exporter": "python",
   "pygments_lexer": "ipython3",
   "version": "3.6.8"
  }
 },
 "nbformat": 4,
 "nbformat_minor": 2
}
